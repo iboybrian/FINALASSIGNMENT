{
 "cells": [
  {
   "cell_type": "markdown",
   "id": "adcbf6ac-97ef-4337-9661-4aef8b824dad",
   "metadata": {},
   "source": [
    "# Data Science Tools and Ecosystem"
   ]
  },
  {
   "cell_type": "markdown",
   "id": "94b97ce3-3d1c-4f2e-a859-b887a317a85d",
   "metadata": {},
   "source": [
    "In this notebook, Data Science Tools and Ecosystem are summarized."
   ]
  },
  {
   "cell_type": "markdown",
   "id": "4a614b89-cc8e-4abb-b5d4-d42b2dfd462c",
   "metadata": {},
   "source": [
    "**Objectives:**\n",
    "* List languages used in data science\n",
    "* List libraries used in data science\n",
    "* Create tables listing open source tools for data science\n",
    "* Create code to do basic math\n",
    "* Create comments on code"
   ]
  },
  {
   "cell_type": "markdown",
   "id": "95044d58-57a8-4310-a064-2125cecdb815",
   "metadata": {},
   "source": [
    "Some of the languages Data Scientis use are:\n",
    "1. Python\n",
    "23. R\n",
    "34. SQL"
   ]
  },
  {
   "cell_type": "markdown",
   "id": "b14226f3-3c7e-43ec-948c-cbc023d047d4",
   "metadata": {},
   "source": [
    "Some of the popular libraries used in data science are:\n",
    "* Pandas\n",
    "* Numpy\n",
    "* Matplotlib\n",
    "* Scipy\n",
    "* Keras"
   ]
  },
  {
   "cell_type": "markdown",
   "id": "c34ec65c-5636-4d54-b9d3-cc1537857b83",
   "metadata": {},
   "source": [
    "Also this are the tools that are open source used in data science:\n",
    "\n",
    "|Data Science Tools|\n",
    "|-----------|\n",
    "|Jupyter lab|\n",
    "|Apache Spark|\n",
    "|PostgreSQL|\n",
    "|GITHUB|"
   ]
  },
  {
   "cell_type": "markdown",
   "id": "77872b3c-ff78-49c9-b36f-acc5ebcf274c",
   "metadata": {},
   "source": [
    "### Below are a few examples of evaluating arithmetic expressions in Python.\n",
    "\n"
   ]
  },
  {
   "cell_type": "code",
   "execution_count": 1,
   "id": "d3f3fcbd-718a-4958-b940-03d63c2a9812",
   "metadata": {},
   "outputs": [
    {
     "data": {
      "text/plain": [
       "17"
      ]
     },
     "execution_count": 1,
     "metadata": {},
     "output_type": "execute_result"
    }
   ],
   "source": [
    "#This a simple arithmetic expression to mutiply then add integers\n",
    "(3*4)+5"
   ]
  },
  {
   "cell_type": "code",
   "execution_count": 7,
   "id": "0cc694de-633c-4ea7-bef1-0b3427cf32a5",
   "metadata": {},
   "outputs": [
    {
     "name": "stdout",
     "output_type": "stream",
     "text": [
      "200 minutes equals 3.3333333333333335 hours\n"
     ]
    }
   ],
   "source": [
    "x = 200/60\n",
    "print(\"200 minutes equals \" + str(x) + \" hours\")\n"
   ]
  },
  {
   "cell_type": "markdown",
   "id": "848bd7b8-f0b7-4097-859a-390e47a0d6a5",
   "metadata": {},
   "source": [
    "## Author:\n",
    "Brian Iboy"
   ]
  },
  {
   "cell_type": "code",
   "execution_count": null,
   "id": "2a2fd4bc-6282-408b-9c7a-3dfd345463d9",
   "metadata": {},
   "outputs": [],
   "source": []
  }
 ],
 "metadata": {
  "kernelspec": {
   "display_name": "Python 3 (ipykernel)",
   "language": "python",
   "name": "python3"
  },
  "language_info": {
   "codemirror_mode": {
    "name": "ipython",
    "version": 3
   },
   "file_extension": ".py",
   "mimetype": "text/x-python",
   "name": "python",
   "nbconvert_exporter": "python",
   "pygments_lexer": "ipython3",
   "version": "3.12.7"
  }
 },
 "nbformat": 4,
 "nbformat_minor": 5
}
